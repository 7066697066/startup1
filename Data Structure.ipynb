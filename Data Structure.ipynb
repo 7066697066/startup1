{
 "cells": [
  {
   "cell_type": "code",
   "execution_count": 1,
   "id": "050b1733",
   "metadata": {},
   "outputs": [],
   "source": [
    "a = 45 + 50j"
   ]
  },
  {
   "cell_type": "code",
   "execution_count": 2,
   "id": "63d4e53c",
   "metadata": {},
   "outputs": [
    {
     "data": {
      "text/plain": [
       "(45+50j)"
      ]
     },
     "execution_count": 2,
     "metadata": {},
     "output_type": "execute_result"
    }
   ],
   "source": [
    "a"
   ]
  },
  {
   "cell_type": "code",
   "execution_count": 3,
   "id": "2baf6507",
   "metadata": {},
   "outputs": [
    {
     "data": {
      "text/plain": [
       "complex"
      ]
     },
     "execution_count": 3,
     "metadata": {},
     "output_type": "execute_result"
    }
   ],
   "source": [
    "type(a)"
   ]
  },
  {
   "cell_type": "code",
   "execution_count": null,
   "id": "b9cfd0c1",
   "metadata": {},
   "outputs": [],
   "source": [
    "case:\n",
    "    PascalCase\n",
    "    camelCase\n",
    "    snake_case"
   ]
  },
  {
   "cell_type": "code",
   "execution_count": 4,
   "id": "414ccc5e",
   "metadata": {},
   "outputs": [],
   "source": [
    "#DS\n",
    "list\n",
    "tuple\n",
    "set\n",
    "dict\n",
    "str\n",
    "frozenset"
   ]
  },
  {
   "cell_type": "code",
   "execution_count": 5,
   "id": "c64b51fe",
   "metadata": {},
   "outputs": [],
   "source": [
    "#list"
   ]
  },
  {
   "cell_type": "code",
   "execution_count": null,
   "id": "87f6622d",
   "metadata": {},
   "outputs": [],
   "source": [
    "int  --> complete number\n",
    "float --> number with decimal point\n",
    "str --> collection of char\n",
    "None  --> empty variable\n",
    "bool --> True/False\n",
    "complex --> real+imgj"
   ]
  },
  {
   "cell_type": "code",
   "execution_count": null,
   "id": "b0211d3e",
   "metadata": {},
   "outputs": [],
   "source": []
  },
  {
   "cell_type": "code",
   "execution_count": null,
   "id": "1f540803",
   "metadata": {},
   "outputs": [],
   "source": [
    "DS\n",
    "it is collection of data type/orgnize in perticular format i.s DS\n",
    "\n",
    "list\n",
    "tuple\n",
    "set\n",
    "dict\n",
    "str\n",
    "frozenset"
   ]
  },
  {
   "cell_type": "code",
   "execution_count": null,
   "id": "36ce5631",
   "metadata": {},
   "outputs": [],
   "source": [
    "1.List: []\n",
    "    \n",
    "    list is mutable type i.e. we can peform operation delete,update,insert\n",
    "    it is collection of data type /element    \n",
    "    if data similar --> homogeneous    \n",
    "    different --> hetrogeneous    \n",
    "    [] --> list\n",
    "    list can contain duplicates element"
   ]
  },
  {
   "cell_type": "code",
   "execution_count": null,
   "id": "6a2f6957",
   "metadata": {},
   "outputs": [],
   "source": []
  },
  {
   "cell_type": "code",
   "execution_count": 6,
   "id": "5984c0dc",
   "metadata": {},
   "outputs": [],
   "source": [
    "py_list = [45,87,23,86,34,86] "
   ]
  },
  {
   "cell_type": "code",
   "execution_count": 7,
   "id": "8b421084",
   "metadata": {},
   "outputs": [
    {
     "data": {
      "text/plain": [
       "[45, 87, 23, 86, 34, 86]"
      ]
     },
     "execution_count": 7,
     "metadata": {},
     "output_type": "execute_result"
    }
   ],
   "source": [
    "py_list"
   ]
  },
  {
   "cell_type": "code",
   "execution_count": 8,
   "id": "f208cdce",
   "metadata": {},
   "outputs": [
    {
     "data": {
      "text/plain": [
       "list"
      ]
     },
     "execution_count": 8,
     "metadata": {},
     "output_type": "execute_result"
    }
   ],
   "source": [
    "type(py_list)"
   ]
  },
  {
   "cell_type": "code",
   "execution_count": null,
   "id": "e9b66c9b",
   "metadata": {},
   "outputs": [],
   "source": []
  },
  {
   "cell_type": "code",
   "execution_count": 9,
   "id": "87971c87",
   "metadata": {},
   "outputs": [],
   "source": [
    "a = 45"
   ]
  },
  {
   "cell_type": "code",
   "execution_count": null,
   "id": "8f7fdd98",
   "metadata": {},
   "outputs": [],
   "source": []
  },
  {
   "cell_type": "code",
   "execution_count": 10,
   "id": "7dd5215c",
   "metadata": {},
   "outputs": [
    {
     "data": {
      "text/plain": [
       "int"
      ]
     },
     "execution_count": 10,
     "metadata": {},
     "output_type": "execute_result"
    }
   ],
   "source": [
    "type(a)"
   ]
  },
  {
   "cell_type": "code",
   "execution_count": null,
   "id": "49707120",
   "metadata": {},
   "outputs": [],
   "source": [
    "type --> identify the data type of variable"
   ]
  },
  {
   "cell_type": "code",
   "execution_count": null,
   "id": "2fc46f65",
   "metadata": {},
   "outputs": [],
   "source": []
  },
  {
   "cell_type": "code",
   "execution_count": 11,
   "id": "e7df7895",
   "metadata": {},
   "outputs": [],
   "source": [
    "a = 78.96"
   ]
  },
  {
   "cell_type": "code",
   "execution_count": 12,
   "id": "2e968d42",
   "metadata": {},
   "outputs": [
    {
     "data": {
      "text/plain": [
       "float"
      ]
     },
     "execution_count": 12,
     "metadata": {},
     "output_type": "execute_result"
    }
   ],
   "source": [
    "type(a)"
   ]
  },
  {
   "cell_type": "code",
   "execution_count": 13,
   "id": "74ea3b8b",
   "metadata": {},
   "outputs": [],
   "source": [
    "a = 'Python'"
   ]
  },
  {
   "cell_type": "code",
   "execution_count": 14,
   "id": "e7469de8",
   "metadata": {},
   "outputs": [
    {
     "data": {
      "text/plain": [
       "str"
      ]
     },
     "execution_count": 14,
     "metadata": {},
     "output_type": "execute_result"
    }
   ],
   "source": [
    "type(a)"
   ]
  },
  {
   "cell_type": "code",
   "execution_count": 15,
   "id": "a31e00cd",
   "metadata": {},
   "outputs": [],
   "source": [
    "a = None"
   ]
  },
  {
   "cell_type": "code",
   "execution_count": 16,
   "id": "65831832",
   "metadata": {},
   "outputs": [
    {
     "data": {
      "text/plain": [
       "NoneType"
      ]
     },
     "execution_count": 16,
     "metadata": {},
     "output_type": "execute_result"
    }
   ],
   "source": [
    "type(a)"
   ]
  },
  {
   "cell_type": "code",
   "execution_count": 40,
   "id": "5a49728c",
   "metadata": {},
   "outputs": [],
   "source": [
    "a = True"
   ]
  },
  {
   "cell_type": "code",
   "execution_count": 18,
   "id": "f99f2faa",
   "metadata": {},
   "outputs": [
    {
     "data": {
      "text/plain": [
       "bool"
      ]
     },
     "execution_count": 18,
     "metadata": {},
     "output_type": "execute_result"
    }
   ],
   "source": [
    "type(a)"
   ]
  },
  {
   "cell_type": "code",
   "execution_count": 19,
   "id": "70c558e2",
   "metadata": {},
   "outputs": [],
   "source": [
    "a = [45,89,45,6,73,83]"
   ]
  },
  {
   "cell_type": "code",
   "execution_count": 20,
   "id": "3ded62cc",
   "metadata": {},
   "outputs": [
    {
     "data": {
      "text/plain": [
       "list"
      ]
     },
     "execution_count": 20,
     "metadata": {},
     "output_type": "execute_result"
    }
   ],
   "source": [
    "type(a)"
   ]
  },
  {
   "cell_type": "code",
   "execution_count": 21,
   "id": "fc0f20b1",
   "metadata": {},
   "outputs": [],
   "source": [
    "a = 'None'"
   ]
  },
  {
   "cell_type": "code",
   "execution_count": 22,
   "id": "fdc71877",
   "metadata": {},
   "outputs": [
    {
     "data": {
      "text/plain": [
       "'None'"
      ]
     },
     "execution_count": 22,
     "metadata": {},
     "output_type": "execute_result"
    }
   ],
   "source": [
    "a"
   ]
  },
  {
   "cell_type": "code",
   "execution_count": null,
   "id": "556c58e2",
   "metadata": {},
   "outputs": [],
   "source": []
  },
  {
   "cell_type": "code",
   "execution_count": null,
   "id": "a98072a6",
   "metadata": {},
   "outputs": [],
   "source": [
    "Python DS\n",
    "\n",
    "[] -- list\n",
    "\n",
    "() -- tuple\n",
    " \n",
    "{} -- dict\n",
    "\n",
    "set() --{at least element }\n",
    "\n",
    "frozenset()"
   ]
  },
  {
   "cell_type": "code",
   "execution_count": null,
   "id": "6eed3ba8",
   "metadata": {},
   "outputs": [],
   "source": []
  },
  {
   "cell_type": "code",
   "execution_count": 26,
   "id": "da252ff9",
   "metadata": {},
   "outputs": [],
   "source": [
    "py = ['Python','Java',575,35,896,24,79.56]"
   ]
  },
  {
   "cell_type": "code",
   "execution_count": 27,
   "id": "52e64cc6",
   "metadata": {},
   "outputs": [
    {
     "data": {
      "text/plain": [
       "['Python', 'Java', 575, 35, 896, 24, 79.56]"
      ]
     },
     "execution_count": 27,
     "metadata": {},
     "output_type": "execute_result"
    }
   ],
   "source": [
    "py"
   ]
  },
  {
   "cell_type": "code",
   "execution_count": 28,
   "id": "6d244e08",
   "metadata": {},
   "outputs": [
    {
     "data": {
      "text/plain": [
       "list"
      ]
     },
     "execution_count": 28,
     "metadata": {},
     "output_type": "execute_result"
    }
   ],
   "source": [
    "type(py)"
   ]
  },
  {
   "cell_type": "code",
   "execution_count": 29,
   "id": "6d5c0142",
   "metadata": {},
   "outputs": [],
   "source": [
    "p = [45,24,87,34,86,45,23,45]"
   ]
  },
  {
   "cell_type": "code",
   "execution_count": 30,
   "id": "b417b563",
   "metadata": {},
   "outputs": [
    {
     "data": {
      "text/plain": [
       "[45, 24, 87, 34, 86, 45, 23, 45]"
      ]
     },
     "execution_count": 30,
     "metadata": {},
     "output_type": "execute_result"
    }
   ],
   "source": [
    "p"
   ]
  },
  {
   "cell_type": "code",
   "execution_count": 33,
   "id": "fb172b6c",
   "metadata": {},
   "outputs": [
    {
     "ename": "NameError",
     "evalue": "name 'printf' is not defined",
     "output_type": "error",
     "traceback": [
      "\u001b[1;31m---------------------------------------------------------------------------\u001b[0m",
      "\u001b[1;31mNameError\u001b[0m                                 Traceback (most recent call last)",
      "Input \u001b[1;32mIn [33]\u001b[0m, in \u001b[0;36m<cell line: 1>\u001b[1;34m()\u001b[0m\n\u001b[1;32m----> 1\u001b[0m \u001b[43mprintf\u001b[49m(p)\n",
      "\u001b[1;31mNameError\u001b[0m: name 'printf' is not defined"
     ]
    }
   ],
   "source": [
    "printf(p)"
   ]
  },
  {
   "cell_type": "code",
   "execution_count": 37,
   "id": "782b6a15",
   "metadata": {},
   "outputs": [
    {
     "ename": "SyntaxError",
     "evalue": "unexpected EOF while parsing (1108956284.py, line 1)",
     "output_type": "error",
     "traceback": [
      "\u001b[1;36m  Input \u001b[1;32mIn [37]\u001b[1;36m\u001b[0m\n\u001b[1;33m    p.add(54\u001b[0m\n\u001b[1;37m            ^\u001b[0m\n\u001b[1;31mSyntaxError\u001b[0m\u001b[1;31m:\u001b[0m unexpected EOF while parsing\n"
     ]
    }
   ],
   "source": [
    "p.add(54"
   ]
  },
  {
   "cell_type": "code",
   "execution_count": 41,
   "id": "b3f21d88",
   "metadata": {},
   "outputs": [
    {
     "data": {
      "text/plain": [
       "[45, 24, 87, 34, 86, 45, 23, 45]"
      ]
     },
     "execution_count": 41,
     "metadata": {},
     "output_type": "execute_result"
    }
   ],
   "source": [
    "p"
   ]
  },
  {
   "cell_type": "code",
   "execution_count": 42,
   "id": "20ca7a32",
   "metadata": {},
   "outputs": [],
   "source": [
    "#insert operation\n",
    "1.insert\n",
    "2.append\n",
    "3.extend\n"
   ]
  },
  {
   "cell_type": "code",
   "execution_count": 43,
   "id": "e0ebcbf9",
   "metadata": {},
   "outputs": [
    {
     "data": {
      "text/plain": [
       "[45, 24, 87, 34, 86, 45, 23, 45]"
      ]
     },
     "execution_count": 43,
     "metadata": {},
     "output_type": "execute_result"
    }
   ],
   "source": [
    "p"
   ]
  },
  {
   "cell_type": "code",
   "execution_count": null,
   "id": "3ea72d66",
   "metadata": {},
   "outputs": [],
   "source": [
    "element in the list can be access with the help of index number"
   ]
  },
  {
   "cell_type": "code",
   "execution_count": null,
   "id": "dfe245e0",
   "metadata": {},
   "outputs": [],
   "source": []
  },
  {
   "cell_type": "code",
   "execution_count": 44,
   "id": "32b51b1a",
   "metadata": {},
   "outputs": [],
   "source": [
    "py = ['Python','Java','ML',45,78,23,90,'Hadoop']"
   ]
  },
  {
   "cell_type": "code",
   "execution_count": 46,
   "id": "20fcd1ae",
   "metadata": {},
   "outputs": [
    {
     "data": {
      "text/plain": [
       "45"
      ]
     },
     "execution_count": 46,
     "metadata": {},
     "output_type": "execute_result"
    }
   ],
   "source": [
    "py[-5]"
   ]
  },
  {
   "cell_type": "code",
   "execution_count": null,
   "id": "c32e09a8",
   "metadata": {},
   "outputs": [],
   "source": [
    "FI --> 0  real time \n",
    "\n",
    "RI --> -1"
   ]
  },
  {
   "cell_type": "code",
   "execution_count": 47,
   "id": "559afd61",
   "metadata": {},
   "outputs": [
    {
     "data": {
      "text/plain": [
       "['Python', 'Java', 'ML', 45, 78, 23, 90, 'Hadoop']"
      ]
     },
     "execution_count": 47,
     "metadata": {},
     "output_type": "execute_result"
    }
   ],
   "source": [
    "py"
   ]
  },
  {
   "cell_type": "code",
   "execution_count": 48,
   "id": "57e9cd34",
   "metadata": {},
   "outputs": [],
   "source": [
    "py = ['Python', 'Java', 'ML', 45, 78, 23, 90, 'Hadoop',45,45,45,90]"
   ]
  },
  {
   "cell_type": "code",
   "execution_count": 49,
   "id": "c4250171",
   "metadata": {},
   "outputs": [
    {
     "data": {
      "text/plain": [
       "45"
      ]
     },
     "execution_count": 49,
     "metadata": {},
     "output_type": "execute_result"
    }
   ],
   "source": [
    "py[-4]"
   ]
  },
  {
   "cell_type": "code",
   "execution_count": 50,
   "id": "a6d4a125",
   "metadata": {},
   "outputs": [],
   "source": [
    "py = ['Python', 'Java', 'ML', 45, 78, 23, 90, 'Hadoop']"
   ]
  },
  {
   "cell_type": "code",
   "execution_count": null,
   "id": "6b30d670",
   "metadata": {},
   "outputs": [],
   "source": [
    "#insert operation\n",
    "1.insert\n",
    "2.append\n",
    "3.extend\n"
   ]
  },
  {
   "cell_type": "code",
   "execution_count": null,
   "id": "ea9735ed",
   "metadata": {},
   "outputs": [],
   "source": [
    "insert(index,element)"
   ]
  },
  {
   "cell_type": "code",
   "execution_count": 52,
   "id": "d43793a0",
   "metadata": {},
   "outputs": [],
   "source": [
    "py.insert(2,'Data Science')"
   ]
  },
  {
   "cell_type": "code",
   "execution_count": 53,
   "id": "c4649cd5",
   "metadata": {},
   "outputs": [
    {
     "data": {
      "text/plain": [
       "['Python', 'Java', 'Data Science', 'ML', 45, 78, 23, 90, 'Hadoop']"
      ]
     },
     "execution_count": 53,
     "metadata": {},
     "output_type": "execute_result"
    }
   ],
   "source": [
    "py"
   ]
  },
  {
   "cell_type": "code",
   "execution_count": 54,
   "id": "6c60686c",
   "metadata": {},
   "outputs": [],
   "source": [
    "py.insert(5,90000)"
   ]
  },
  {
   "cell_type": "code",
   "execution_count": 55,
   "id": "a3f31dbd",
   "metadata": {},
   "outputs": [
    {
     "data": {
      "text/plain": [
       "['Python', 'Java', 'Data Science', 'ML', 45, 90000, 78, 23, 90, 'Hadoop']"
      ]
     },
     "execution_count": 55,
     "metadata": {},
     "output_type": "execute_result"
    }
   ],
   "source": [
    "py"
   ]
  },
  {
   "cell_type": "code",
   "execution_count": null,
   "id": "c3c44c5a",
   "metadata": {},
   "outputs": [],
   "source": [
    "insert(index,element)  # element insert at desired location ->"
   ]
  },
  {
   "cell_type": "code",
   "execution_count": 63,
   "id": "3dd4896e",
   "metadata": {},
   "outputs": [],
   "source": [
    "py.insert(3,'None')"
   ]
  },
  {
   "cell_type": "code",
   "execution_count": 65,
   "id": "c399f4f9",
   "metadata": {},
   "outputs": [
    {
     "name": "stdout",
     "output_type": "stream",
     "text": [
      "['Python', 'Java', 'Data Science', 'None', None, 'ML', 45, 90000, 78, 23, 90, 'Hadoop']\n"
     ]
    }
   ],
   "source": [
    "print(py)"
   ]
  },
  {
   "cell_type": "code",
   "execution_count": null,
   "id": "63461249",
   "metadata": {},
   "outputs": [],
   "source": []
  },
  {
   "cell_type": "code",
   "execution_count": null,
   "id": "3afa46c0",
   "metadata": {},
   "outputs": [],
   "source": [
    "append(element) -- insert the element at the end"
   ]
  },
  {
   "cell_type": "code",
   "execution_count": 67,
   "id": "b3e2d6bc",
   "metadata": {},
   "outputs": [],
   "source": [
    "py = [1,2,3]"
   ]
  },
  {
   "cell_type": "code",
   "execution_count": 68,
   "id": "29875845",
   "metadata": {},
   "outputs": [],
   "source": [
    "py.append(450)"
   ]
  },
  {
   "cell_type": "code",
   "execution_count": 69,
   "id": "144a37e6",
   "metadata": {},
   "outputs": [],
   "source": [
    "py.append(500)"
   ]
  },
  {
   "cell_type": "code",
   "execution_count": 70,
   "id": "7738d87a",
   "metadata": {},
   "outputs": [
    {
     "data": {
      "text/plain": [
       "[1, 2, 3, 450, 500]"
      ]
     },
     "execution_count": 70,
     "metadata": {},
     "output_type": "execute_result"
    }
   ],
   "source": [
    "py"
   ]
  },
  {
   "cell_type": "code",
   "execution_count": 71,
   "id": "d402bc7d",
   "metadata": {},
   "outputs": [],
   "source": [
    "py.append('Hadoop')"
   ]
  },
  {
   "cell_type": "code",
   "execution_count": 72,
   "id": "44ceb707",
   "metadata": {},
   "outputs": [
    {
     "data": {
      "text/plain": [
       "[1, 2, 3, 450, 500, 'Hadoop']"
      ]
     },
     "execution_count": 72,
     "metadata": {},
     "output_type": "execute_result"
    }
   ],
   "source": [
    "py"
   ]
  },
  {
   "cell_type": "code",
   "execution_count": null,
   "id": "653ff02d",
   "metadata": {},
   "outputs": [],
   "source": [
    "insert(index,element) --> at desired location\n",
    "append(element) --> at the end"
   ]
  },
  {
   "cell_type": "code",
   "execution_count": null,
   "id": "fbf77260",
   "metadata": {},
   "outputs": [],
   "source": []
  },
  {
   "cell_type": "code",
   "execution_count": 4,
   "id": "aec47c6c",
   "metadata": {},
   "outputs": [],
   "source": [
    "py_list = [45,97,23,86,98.59,'ML','DS']"
   ]
  },
  {
   "cell_type": "code",
   "execution_count": 2,
   "id": "965e626d",
   "metadata": {},
   "outputs": [
    {
     "data": {
      "text/plain": [
       "[45, 97, 23, 86, 98.59, 'ML', 'DS']"
      ]
     },
     "execution_count": 2,
     "metadata": {},
     "output_type": "execute_result"
    }
   ],
   "source": [
    "py_list"
   ]
  },
  {
   "cell_type": "code",
   "execution_count": null,
   "id": "3cc6e62f",
   "metadata": {},
   "outputs": [],
   "source": [
    "how to access element from element\n",
    "\n",
    "\n",
    "FI --0\n",
    "\n",
    "RI -- -1"
   ]
  },
  {
   "cell_type": "code",
   "execution_count": null,
   "id": "49cd0bf6",
   "metadata": {},
   "outputs": [],
   "source": []
  },
  {
   "cell_type": "code",
   "execution_count": 3,
   "id": "8a4245df",
   "metadata": {},
   "outputs": [
    {
     "ename": "NameError",
     "evalue": "name 'py' is not defined",
     "output_type": "error",
     "traceback": [
      "\u001b[1;31m---------------------------------------------------------------------------\u001b[0m",
      "\u001b[1;31mNameError\u001b[0m                                 Traceback (most recent call last)",
      "Input \u001b[1;32mIn [3]\u001b[0m, in \u001b[0;36m<cell line: 1>\u001b[1;34m()\u001b[0m\n\u001b[1;32m----> 1\u001b[0m \u001b[43mpy\u001b[49m\n",
      "\u001b[1;31mNameError\u001b[0m: name 'py' is not defined"
     ]
    }
   ],
   "source": [
    "py"
   ]
  },
  {
   "cell_type": "code",
   "execution_count": 7,
   "id": "32d629e1",
   "metadata": {},
   "outputs": [],
   "source": [
    "py_list.insert(5,900)"
   ]
  },
  {
   "cell_type": "code",
   "execution_count": 8,
   "id": "f53b030f",
   "metadata": {},
   "outputs": [
    {
     "data": {
      "text/plain": [
       "[45, 97, 23, 86, 98.59, 900, 'ML', 'DS']"
      ]
     },
     "execution_count": 8,
     "metadata": {},
     "output_type": "execute_result"
    }
   ],
   "source": [
    "py_list"
   ]
  },
  {
   "cell_type": "code",
   "execution_count": null,
   "id": "66d95be4",
   "metadata": {},
   "outputs": [],
   "source": [
    "insert(index,element)"
   ]
  },
  {
   "cell_type": "code",
   "execution_count": null,
   "id": "d2ebe250",
   "metadata": {},
   "outputs": [],
   "source": []
  },
  {
   "cell_type": "code",
   "execution_count": null,
   "id": "3f09df68",
   "metadata": {},
   "outputs": [],
   "source": [
    "append(element) --> insert at the end "
   ]
  },
  {
   "cell_type": "code",
   "execution_count": null,
   "id": "6499f4e6",
   "metadata": {},
   "outputs": [],
   "source": []
  },
  {
   "cell_type": "code",
   "execution_count": 10,
   "id": "d088f4cc",
   "metadata": {},
   "outputs": [],
   "source": [
    "py_list.append(7920)"
   ]
  },
  {
   "cell_type": "code",
   "execution_count": 11,
   "id": "e8658d2e",
   "metadata": {},
   "outputs": [
    {
     "data": {
      "text/plain": [
       "[45, 97, 23, 86, 98.59, 900, 'ML', 'DS', 7920]"
      ]
     },
     "execution_count": 11,
     "metadata": {},
     "output_type": "execute_result"
    }
   ],
   "source": [
    "py_list"
   ]
  },
  {
   "cell_type": "code",
   "execution_count": 12,
   "id": "ee367af3",
   "metadata": {},
   "outputs": [],
   "source": [
    "py_list.append('test')"
   ]
  },
  {
   "cell_type": "code",
   "execution_count": 13,
   "id": "c6554a94",
   "metadata": {},
   "outputs": [
    {
     "data": {
      "text/plain": [
       "[45, 97, 23, 86, 98.59, 900, 'ML', 'DS', 7920, 'test']"
      ]
     },
     "execution_count": 13,
     "metadata": {},
     "output_type": "execute_result"
    }
   ],
   "source": [
    "py_list"
   ]
  },
  {
   "cell_type": "code",
   "execution_count": null,
   "id": "391e54f5",
   "metadata": {},
   "outputs": [],
   "source": [
    "#insertion\n",
    "\n",
    "\n",
    "insert\n",
    "append\n",
    "\n",
    "extend"
   ]
  },
  {
   "cell_type": "code",
   "execution_count": null,
   "id": "48c0f9d4",
   "metadata": {},
   "outputs": [],
   "source": [
    "#extend(list of element)"
   ]
  },
  {
   "cell_type": "code",
   "execution_count": 15,
   "id": "2c1b99f1",
   "metadata": {},
   "outputs": [],
   "source": [
    "py_list.extend([100,200,300,400,500])"
   ]
  },
  {
   "cell_type": "code",
   "execution_count": 16,
   "id": "a2ca8f40",
   "metadata": {},
   "outputs": [
    {
     "data": {
      "text/plain": [
       "[45, 97, 23, 86, 98.59, 900, 'ML', 'DS', 7920, 'test', 100, 200, 300, 400, 500]"
      ]
     },
     "execution_count": 16,
     "metadata": {},
     "output_type": "execute_result"
    }
   ],
   "source": [
    "py_list"
   ]
  },
  {
   "cell_type": "code",
   "execution_count": null,
   "id": "8bc93fa9",
   "metadata": {},
   "outputs": [],
   "source": [
    "Note: group of element -[ ],() ,{}"
   ]
  },
  {
   "cell_type": "code",
   "execution_count": 17,
   "id": "7c512325",
   "metadata": {},
   "outputs": [],
   "source": [
    "py_list.append(700)"
   ]
  },
  {
   "cell_type": "code",
   "execution_count": 18,
   "id": "7527c15a",
   "metadata": {},
   "outputs": [
    {
     "data": {
      "text/plain": [
       "[45,\n",
       " 97,\n",
       " 23,\n",
       " 86,\n",
       " 98.59,\n",
       " 900,\n",
       " 'ML',\n",
       " 'DS',\n",
       " 7920,\n",
       " 'test',\n",
       " 100,\n",
       " 200,\n",
       " 300,\n",
       " 400,\n",
       " 500,\n",
       " 700]"
      ]
     },
     "execution_count": 18,
     "metadata": {},
     "output_type": "execute_result"
    }
   ],
   "source": [
    "py_list"
   ]
  },
  {
   "cell_type": "code",
   "execution_count": 19,
   "id": "3248b940",
   "metadata": {},
   "outputs": [],
   "source": [
    "py = [1,2,3]"
   ]
  },
  {
   "cell_type": "code",
   "execution_count": 20,
   "id": "5acf400f",
   "metadata": {},
   "outputs": [],
   "source": [
    "py.append(790)"
   ]
  },
  {
   "cell_type": "code",
   "execution_count": 21,
   "id": "8dd2103b",
   "metadata": {},
   "outputs": [
    {
     "data": {
      "text/plain": [
       "[1, 2, 3, 790]"
      ]
     },
     "execution_count": 21,
     "metadata": {},
     "output_type": "execute_result"
    }
   ],
   "source": [
    "py"
   ]
  },
  {
   "cell_type": "code",
   "execution_count": 25,
   "id": "bba66d00",
   "metadata": {},
   "outputs": [],
   "source": [
    "py.extend([900,78216,'Python'])"
   ]
  },
  {
   "cell_type": "code",
   "execution_count": 26,
   "id": "1cbf6755",
   "metadata": {},
   "outputs": [
    {
     "data": {
      "text/plain": [
       "[1, 2, 3, 790, 900, 78216, 'Python', 900, 78216, 'Python']"
      ]
     },
     "execution_count": 26,
     "metadata": {},
     "output_type": "execute_result"
    }
   ],
   "source": [
    "py"
   ]
  },
  {
   "cell_type": "code",
   "execution_count": 27,
   "id": "e5e0b38d",
   "metadata": {},
   "outputs": [],
   "source": [
    "t1 =[1,2,3]"
   ]
  },
  {
   "cell_type": "code",
   "execution_count": 28,
   "id": "8d11eff8",
   "metadata": {},
   "outputs": [],
   "source": [
    "t2 = [100,200,300]"
   ]
  },
  {
   "cell_type": "code",
   "execution_count": 29,
   "id": "64051cee",
   "metadata": {},
   "outputs": [],
   "source": [
    "t1.extend(t2)"
   ]
  },
  {
   "cell_type": "code",
   "execution_count": 30,
   "id": "9b0c8e11",
   "metadata": {},
   "outputs": [
    {
     "data": {
      "text/plain": [
       "[1, 2, 3, 100, 200, 300]"
      ]
     },
     "execution_count": 30,
     "metadata": {},
     "output_type": "execute_result"
    }
   ],
   "source": [
    "t1"
   ]
  },
  {
   "cell_type": "code",
   "execution_count": null,
   "id": "097e883e",
   "metadata": {},
   "outputs": [],
   "source": [
    "append vs extend"
   ]
  },
  {
   "cell_type": "code",
   "execution_count": null,
   "id": "010c9fe7",
   "metadata": {},
   "outputs": [],
   "source": [
    "append --> add single element\n",
    "if we pass list of element then it will add as element(nested list)\n",
    "\n",
    "extend --> add multiple element"
   ]
  },
  {
   "cell_type": "code",
   "execution_count": null,
   "id": "ebb8b539",
   "metadata": {},
   "outputs": [],
   "source": []
  },
  {
   "cell_type": "code",
   "execution_count": 31,
   "id": "98a93db9",
   "metadata": {},
   "outputs": [
    {
     "data": {
      "text/plain": [
       "[1, 2, 3, 100, 200, 300]"
      ]
     },
     "execution_count": 31,
     "metadata": {},
     "output_type": "execute_result"
    }
   ],
   "source": [
    "t1"
   ]
  },
  {
   "cell_type": "code",
   "execution_count": 32,
   "id": "351c053a",
   "metadata": {},
   "outputs": [],
   "source": [
    "t1.append(['Python','ML','DS'])"
   ]
  },
  {
   "cell_type": "code",
   "execution_count": 33,
   "id": "7850c37e",
   "metadata": {},
   "outputs": [
    {
     "data": {
      "text/plain": [
       "[1, 2, 3, 100, 200, 300, ['Python', 'ML', 'DS']]"
      ]
     },
     "execution_count": 33,
     "metadata": {},
     "output_type": "execute_result"
    }
   ],
   "source": [
    "t1"
   ]
  },
  {
   "cell_type": "code",
   "execution_count": 35,
   "id": "30b45751",
   "metadata": {},
   "outputs": [],
   "source": [
    "t1[6].insert(2,9494)"
   ]
  },
  {
   "cell_type": "code",
   "execution_count": 36,
   "id": "a8b54f67",
   "metadata": {},
   "outputs": [
    {
     "data": {
      "text/plain": [
       "[1, 2, 3, 100, 200, 300, ['Python', 'ML', 9494, 'DS']]"
      ]
     },
     "execution_count": 36,
     "metadata": {},
     "output_type": "execute_result"
    }
   ],
   "source": [
    "t1"
   ]
  },
  {
   "cell_type": "code",
   "execution_count": null,
   "id": "9a9629e1",
   "metadata": {},
   "outputs": [],
   "source": [
    "insertion \n",
    "1.insert(index,element) --> add element at desired location\n",
    "2.append(element) --> add element at the end\n",
    "3.extend([elements]) --> add multiple at the end"
   ]
  },
  {
   "cell_type": "code",
   "execution_count": null,
   "id": "53630fb3",
   "metadata": {},
   "outputs": [],
   "source": [
    "deletion\n",
    "1.remove --> by using element name\n",
    "2.pop --> by index number\n",
    "3.clear --> delete all element"
   ]
  },
  {
   "cell_type": "code",
   "execution_count": 41,
   "id": "2626b748",
   "metadata": {},
   "outputs": [],
   "source": [
    "p1 = [45,234,75,'Python','Java',75,75,'ML',75]"
   ]
  },
  {
   "cell_type": "code",
   "execution_count": 42,
   "id": "0e236317",
   "metadata": {},
   "outputs": [
    {
     "data": {
      "text/plain": [
       "[45, 234, 75, 'Python', 'Java', 75, 75, 'ML', 75]"
      ]
     },
     "execution_count": 42,
     "metadata": {},
     "output_type": "execute_result"
    }
   ],
   "source": [
    "p1"
   ]
  },
  {
   "cell_type": "code",
   "execution_count": 43,
   "id": "501092dd",
   "metadata": {},
   "outputs": [],
   "source": [
    "p1.remove(75)"
   ]
  },
  {
   "cell_type": "code",
   "execution_count": 44,
   "id": "070d4a72",
   "metadata": {},
   "outputs": [
    {
     "data": {
      "text/plain": [
       "[45, 234, 'Python', 'Java', 75, 75, 'ML', 75]"
      ]
     },
     "execution_count": 44,
     "metadata": {},
     "output_type": "execute_result"
    }
   ],
   "source": [
    "p1"
   ]
  },
  {
   "cell_type": "code",
   "execution_count": 45,
   "id": "cd287620",
   "metadata": {},
   "outputs": [],
   "source": [
    "p1.remove('Python')"
   ]
  },
  {
   "cell_type": "code",
   "execution_count": 46,
   "id": "aa0f3405",
   "metadata": {},
   "outputs": [
    {
     "data": {
      "text/plain": [
       "[45, 234, 'Java', 75, 75, 'ML', 75]"
      ]
     },
     "execution_count": 46,
     "metadata": {},
     "output_type": "execute_result"
    }
   ],
   "source": [
    "p1"
   ]
  },
  {
   "cell_type": "code",
   "execution_count": null,
   "id": "f6eec8dc",
   "metadata": {},
   "outputs": [],
   "source": [
    "#pop -- delete the element by using index number"
   ]
  },
  {
   "cell_type": "code",
   "execution_count": null,
   "id": "a557271c",
   "metadata": {},
   "outputs": [],
   "source": []
  },
  {
   "cell_type": "code",
   "execution_count": 47,
   "id": "3250afee",
   "metadata": {},
   "outputs": [
    {
     "data": {
      "text/plain": [
       "[45, 234, 'Java', 75, 75, 'ML', 75]"
      ]
     },
     "execution_count": 47,
     "metadata": {},
     "output_type": "execute_result"
    }
   ],
   "source": [
    "p1"
   ]
  },
  {
   "cell_type": "code",
   "execution_count": 48,
   "id": "f18fba11",
   "metadata": {},
   "outputs": [
    {
     "data": {
      "text/plain": [
       "75"
      ]
     },
     "execution_count": 48,
     "metadata": {},
     "output_type": "execute_result"
    }
   ],
   "source": [
    "p1.pop(4)"
   ]
  },
  {
   "cell_type": "code",
   "execution_count": 49,
   "id": "59f411b6",
   "metadata": {},
   "outputs": [
    {
     "data": {
      "text/plain": [
       "[45, 234, 'Java', 75, 'ML', 75]"
      ]
     },
     "execution_count": 49,
     "metadata": {},
     "output_type": "execute_result"
    }
   ],
   "source": [
    "p1"
   ]
  },
  {
   "cell_type": "code",
   "execution_count": 50,
   "id": "84fc4069",
   "metadata": {},
   "outputs": [
    {
     "data": {
      "text/plain": [
       "75"
      ]
     },
     "execution_count": 50,
     "metadata": {},
     "output_type": "execute_result"
    }
   ],
   "source": [
    "p1.pop(-1)"
   ]
  },
  {
   "cell_type": "code",
   "execution_count": 51,
   "id": "56cad5e3",
   "metadata": {},
   "outputs": [
    {
     "data": {
      "text/plain": [
       "[45, 234, 'Java', 75, 'ML']"
      ]
     },
     "execution_count": 51,
     "metadata": {},
     "output_type": "execute_result"
    }
   ],
   "source": [
    "p1"
   ]
  },
  {
   "cell_type": "code",
   "execution_count": 52,
   "id": "4095db91",
   "metadata": {},
   "outputs": [],
   "source": [
    "p1 =[75,75,75,75,75,75,234,723,623,62,62,]"
   ]
  },
  {
   "cell_type": "code",
   "execution_count": 55,
   "id": "826ede7c",
   "metadata": {},
   "outputs": [],
   "source": [
    "p1 = [56,2,64,24,64,24,64]"
   ]
  },
  {
   "cell_type": "code",
   "execution_count": 56,
   "id": "e8672db6",
   "metadata": {},
   "outputs": [],
   "source": [
    "p1.clear()"
   ]
  },
  {
   "cell_type": "code",
   "execution_count": 57,
   "id": "51f426c5",
   "metadata": {},
   "outputs": [
    {
     "data": {
      "text/plain": [
       "[]"
      ]
     },
     "execution_count": 57,
     "metadata": {},
     "output_type": "execute_result"
    }
   ],
   "source": [
    "p1"
   ]
  },
  {
   "cell_type": "code",
   "execution_count": null,
   "id": "1918fc35",
   "metadata": {},
   "outputs": [],
   "source": [
    "list\n",
    "\n",
    "insertion\n",
    "\n",
    "deletion"
   ]
  },
  {
   "cell_type": "code",
   "execution_count": null,
   "id": "73319c53",
   "metadata": {},
   "outputs": [],
   "source": []
  },
  {
   "cell_type": "code",
   "execution_count": 59,
   "id": "f6059e6e",
   "metadata": {},
   "outputs": [],
   "source": [
    "t1  =['Python', 'ML', 9494, 'DS']"
   ]
  },
  {
   "cell_type": "code",
   "execution_count": 61,
   "id": "8fb3103a",
   "metadata": {},
   "outputs": [],
   "source": [
    "t1[2] = 'Pyspark'"
   ]
  },
  {
   "cell_type": "code",
   "execution_count": 62,
   "id": "30d92f06",
   "metadata": {},
   "outputs": [
    {
     "data": {
      "text/plain": [
       "['Python', 'ML', 'Pyspark', 'DS']"
      ]
     },
     "execution_count": 62,
     "metadata": {},
     "output_type": "execute_result"
    }
   ],
   "source": [
    "t1"
   ]
  },
  {
   "cell_type": "code",
   "execution_count": 63,
   "id": "8d6a751c",
   "metadata": {},
   "outputs": [],
   "source": [
    "t1[0] = 'New Python'"
   ]
  },
  {
   "cell_type": "code",
   "execution_count": 64,
   "id": "27317218",
   "metadata": {},
   "outputs": [
    {
     "data": {
      "text/plain": [
       "['New Python', 'ML', 'Pyspark', 'DS']"
      ]
     },
     "execution_count": 64,
     "metadata": {},
     "output_type": "execute_result"
    }
   ],
   "source": [
    "t1"
   ]
  },
  {
   "cell_type": "code",
   "execution_count": 65,
   "id": "ad616adf",
   "metadata": {},
   "outputs": [],
   "source": [
    "#index number"
   ]
  },
  {
   "cell_type": "code",
   "execution_count": 67,
   "id": "e2e1d40b",
   "metadata": {},
   "outputs": [],
   "source": [
    "t1 = [1, 2, 3, 790, 900, 78216, 'Python', 900, 78216, 'Python']"
   ]
  },
  {
   "cell_type": "code",
   "execution_count": 68,
   "id": "cf919a1c",
   "metadata": {},
   "outputs": [
    {
     "data": {
      "text/plain": [
       "6"
      ]
     },
     "execution_count": 68,
     "metadata": {},
     "output_type": "execute_result"
    }
   ],
   "source": [
    "t1.index('Python')"
   ]
  },
  {
   "cell_type": "code",
   "execution_count": 69,
   "id": "3c612940",
   "metadata": {},
   "outputs": [
    {
     "name": "stdout",
     "output_type": "stream",
     "text": [
      "0 --> 1\n",
      "1 --> 2\n",
      "2 --> 3\n",
      "3 --> 790\n",
      "4 --> 900\n",
      "5 --> 78216\n",
      "6 --> Python\n",
      "7 --> 900\n",
      "8 --> 78216\n",
      "9 --> Python\n"
     ]
    }
   ],
   "source": [
    "for index,element in enumerate(t1):\n",
    "    print(index,\"-->\",element)"
   ]
  },
  {
   "cell_type": "code",
   "execution_count": 70,
   "id": "6fc4ba6e",
   "metadata": {},
   "outputs": [
    {
     "data": {
      "text/plain": [
       "[1, 2, 3, 790, 900, 78216, 'Python', 900, 78216, 'Python']"
      ]
     },
     "execution_count": 70,
     "metadata": {},
     "output_type": "execute_result"
    }
   ],
   "source": [
    "t1"
   ]
  },
  {
   "cell_type": "code",
   "execution_count": 71,
   "id": "0f0a1197",
   "metadata": {},
   "outputs": [],
   "source": [
    "t2 = ['scodeen','Python','ML','DS','AI','DL']"
   ]
  },
  {
   "cell_type": "code",
   "execution_count": 72,
   "id": "7bfef06c",
   "metadata": {},
   "outputs": [
    {
     "data": {
      "text/plain": [
       "4"
      ]
     },
     "execution_count": 72,
     "metadata": {},
     "output_type": "execute_result"
    }
   ],
   "source": [
    "t2.index('AI')"
   ]
  },
  {
   "cell_type": "code",
   "execution_count": 73,
   "id": "1fe25153",
   "metadata": {},
   "outputs": [
    {
     "data": {
      "text/plain": [
       "[1, 2, 3, 790, 900, 78216, 'Python', 900, 78216, 'Python']"
      ]
     },
     "execution_count": 73,
     "metadata": {},
     "output_type": "execute_result"
    }
   ],
   "source": [
    "t1"
   ]
  },
  {
   "cell_type": "code",
   "execution_count": 74,
   "id": "95919505",
   "metadata": {},
   "outputs": [
    {
     "data": {
      "text/plain": [
       "2"
      ]
     },
     "execution_count": 74,
     "metadata": {},
     "output_type": "execute_result"
    }
   ],
   "source": [
    "t1.count(900)"
   ]
  },
  {
   "cell_type": "code",
   "execution_count": 75,
   "id": "15ae92f2",
   "metadata": {},
   "outputs": [
    {
     "data": {
      "text/plain": [
       "2"
      ]
     },
     "execution_count": 75,
     "metadata": {},
     "output_type": "execute_result"
    }
   ],
   "source": [
    "t1.count('Python')"
   ]
  },
  {
   "cell_type": "code",
   "execution_count": 76,
   "id": "0af44f6e",
   "metadata": {},
   "outputs": [
    {
     "data": {
      "text/plain": [
       "0"
      ]
     },
     "execution_count": 76,
     "metadata": {},
     "output_type": "execute_result"
    }
   ],
   "source": [
    "t1.count(18518181)"
   ]
  },
  {
   "cell_type": "code",
   "execution_count": 77,
   "id": "7cf7648a",
   "metadata": {},
   "outputs": [],
   "source": [
    "t1 = [65,96,3,896,348,35,7,2,856]"
   ]
  },
  {
   "cell_type": "code",
   "execution_count": 78,
   "id": "db164c93",
   "metadata": {},
   "outputs": [],
   "source": [
    "t1.sort()  # default sort -- ascending ord"
   ]
  },
  {
   "cell_type": "code",
   "execution_count": 79,
   "id": "8d6fb5b4",
   "metadata": {},
   "outputs": [
    {
     "data": {
      "text/plain": [
       "[2, 3, 7, 35, 65, 96, 348, 856, 896]"
      ]
     },
     "execution_count": 79,
     "metadata": {},
     "output_type": "execute_result"
    }
   ],
   "source": [
    "t1"
   ]
  },
  {
   "cell_type": "code",
   "execution_count": null,
   "id": "e999c525",
   "metadata": {},
   "outputs": [],
   "source": []
  },
  {
   "cell_type": "code",
   "execution_count": null,
   "id": "182c0b55",
   "metadata": {},
   "outputs": [],
   "source": []
  },
  {
   "cell_type": "code",
   "execution_count": null,
   "id": "c31a22e8",
   "metadata": {},
   "outputs": [],
   "source": [
    "#ord\n",
    "\n",
    "desc\n",
    "\n",
    "asc\n"
   ]
  },
  {
   "cell_type": "code",
   "execution_count": 80,
   "id": "ac74ff14",
   "metadata": {},
   "outputs": [],
   "source": [
    "t1 = [65,96,3,896,348,35,7,2,856]"
   ]
  },
  {
   "cell_type": "code",
   "execution_count": null,
   "id": "897c48d4",
   "metadata": {},
   "outputs": [],
   "source": [
    "asc  --> reverse"
   ]
  },
  {
   "cell_type": "code",
   "execution_count": 81,
   "id": "745ca3f6",
   "metadata": {},
   "outputs": [],
   "source": [
    "t1.sort(reverse=True) # asc --> reverse"
   ]
  },
  {
   "cell_type": "code",
   "execution_count": 82,
   "id": "499c7349",
   "metadata": {},
   "outputs": [
    {
     "data": {
      "text/plain": [
       "[896, 856, 348, 96, 65, 35, 7, 3, 2]"
      ]
     },
     "execution_count": 82,
     "metadata": {},
     "output_type": "execute_result"
    }
   ],
   "source": [
    "t1"
   ]
  },
  {
   "cell_type": "code",
   "execution_count": null,
   "id": "d05849c0",
   "metadata": {},
   "outputs": [],
   "source": [
    "real time -->\n",
    "\n",
    "\n",
    "student level\n",
    "\n",
    "\n",
    "job easy\n",
    "\n",
    "\n",
    "200 \n",
    "\n",
    "\n",
    "9.30 to 10.30 \n",
    "\n",
    "\n",
    "sunday -->\n",
    "\n",
    "\n",
    "IT\n",
    "\n",
    "Manager -> Anup\n",
    "\n",
    "email "
   ]
  },
  {
   "cell_type": "code",
   "execution_count": null,
   "id": "61d3698a",
   "metadata": {},
   "outputs": [],
   "source": [
    "ML\n",
    "Django\n",
    "Python\n",
    "GIT\n",
    "DOCKER\n",
    "AWS\n",
    "\n",
    "SQL\n",
    "ETL\n",
    "UNIX"
   ]
  },
  {
   "cell_type": "code",
   "execution_count": null,
   "id": "433c616d",
   "metadata": {},
   "outputs": [],
   "source": [
    "90 practical"
   ]
  },
  {
   "cell_type": "code",
   "execution_count": null,
   "id": "b4e834ff",
   "metadata": {},
   "outputs": [],
   "source": [
    "2 hr \n",
    "\n",
    "\n",
    "non IT\n",
    "\n",
    "\n",
    "Mech\n",
    " "
   ]
  },
  {
   "cell_type": "code",
   "execution_count": 83,
   "id": "56807d54",
   "metadata": {},
   "outputs": [
    {
     "data": {
      "text/plain": [
       "[896, 856, 348, 96, 65, 35, 7, 3, 2]"
      ]
     },
     "execution_count": 83,
     "metadata": {},
     "output_type": "execute_result"
    }
   ],
   "source": [
    "t1"
   ]
  },
  {
   "cell_type": "code",
   "execution_count": 84,
   "id": "74794e90",
   "metadata": {},
   "outputs": [],
   "source": [
    "t1.append([1,2,3])"
   ]
  },
  {
   "cell_type": "code",
   "execution_count": 85,
   "id": "ca93d31e",
   "metadata": {},
   "outputs": [
    {
     "data": {
      "text/plain": [
       "[896, 856, 348, 96, 65, 35, 7, 3, 2, [1, 2, 3]]"
      ]
     },
     "execution_count": 85,
     "metadata": {},
     "output_type": "execute_result"
    }
   ],
   "source": [
    "t1"
   ]
  },
  {
   "cell_type": "code",
   "execution_count": 86,
   "id": "8fb2c914",
   "metadata": {},
   "outputs": [
    {
     "data": {
      "text/plain": [
       "[1, 2, 3]"
      ]
     },
     "execution_count": 86,
     "metadata": {},
     "output_type": "execute_result"
    }
   ],
   "source": [
    "t1.pop(-1)"
   ]
  },
  {
   "cell_type": "code",
   "execution_count": 87,
   "id": "f37381fa",
   "metadata": {},
   "outputs": [
    {
     "data": {
      "text/plain": [
       "[896, 856, 348, 96, 65, 35, 7, 3, 2]"
      ]
     },
     "execution_count": 87,
     "metadata": {},
     "output_type": "execute_result"
    }
   ],
   "source": [
    "t1"
   ]
  },
  {
   "cell_type": "code",
   "execution_count": null,
   "id": "888ad828",
   "metadata": {},
   "outputs": [],
   "source": []
  },
  {
   "cell_type": "code",
   "execution_count": null,
   "id": "98e228e0",
   "metadata": {},
   "outputs": [],
   "source": []
  },
  {
   "cell_type": "code",
   "execution_count": null,
   "id": "1ebc3279",
   "metadata": {},
   "outputs": [],
   "source": []
  },
  {
   "cell_type": "code",
   "execution_count": null,
   "id": "d55e745f",
   "metadata": {},
   "outputs": [],
   "source": []
  },
  {
   "cell_type": "code",
   "execution_count": null,
   "id": "c38a0f7c",
   "metadata": {},
   "outputs": [],
   "source": []
  },
  {
   "cell_type": "code",
   "execution_count": 88,
   "id": "263b93f8",
   "metadata": {},
   "outputs": [],
   "source": [
    "py_list = [45,86,4,97,35,8635,]"
   ]
  },
  {
   "cell_type": "code",
   "execution_count": 89,
   "id": "0b2aab6f",
   "metadata": {},
   "outputs": [
    {
     "data": {
      "text/plain": [
       "[45, 86, 4, 97, 35, 8635]"
      ]
     },
     "execution_count": 89,
     "metadata": {},
     "output_type": "execute_result"
    }
   ],
   "source": [
    "py_list"
   ]
  },
  {
   "cell_type": "code",
   "execution_count": 90,
   "id": "56a49fa9",
   "metadata": {},
   "outputs": [],
   "source": [
    "py_list.insert(2,800)"
   ]
  },
  {
   "cell_type": "code",
   "execution_count": 91,
   "id": "639a2798",
   "metadata": {},
   "outputs": [
    {
     "data": {
      "text/plain": [
       "[45, 86, 800, 4, 97, 35, 8635]"
      ]
     },
     "execution_count": 91,
     "metadata": {},
     "output_type": "execute_result"
    }
   ],
   "source": [
    "py_list"
   ]
  },
  {
   "cell_type": "code",
   "execution_count": 92,
   "id": "95a4da58",
   "metadata": {},
   "outputs": [],
   "source": [
    "py_list.append(3535)"
   ]
  },
  {
   "cell_type": "code",
   "execution_count": 93,
   "id": "6fbdcb3a",
   "metadata": {},
   "outputs": [
    {
     "data": {
      "text/plain": [
       "[45, 86, 800, 4, 97, 35, 8635, 3535]"
      ]
     },
     "execution_count": 93,
     "metadata": {},
     "output_type": "execute_result"
    }
   ],
   "source": [
    "py_list"
   ]
  },
  {
   "cell_type": "code",
   "execution_count": 94,
   "id": "29cbf52f",
   "metadata": {},
   "outputs": [],
   "source": [
    "py_list.extend([100,305,'sdfdsg'])"
   ]
  },
  {
   "cell_type": "code",
   "execution_count": 95,
   "id": "326a248d",
   "metadata": {},
   "outputs": [
    {
     "data": {
      "text/plain": [
       "[45, 86, 800, 4, 97, 35, 8635, 3535, 100, 305, 'sdfdsg']"
      ]
     },
     "execution_count": 95,
     "metadata": {},
     "output_type": "execute_result"
    }
   ],
   "source": [
    "py_list"
   ]
  },
  {
   "cell_type": "code",
   "execution_count": 96,
   "id": "89ccbcc2",
   "metadata": {},
   "outputs": [],
   "source": [
    "py_list.remove(97)"
   ]
  },
  {
   "cell_type": "code",
   "execution_count": 97,
   "id": "648b3951",
   "metadata": {},
   "outputs": [
    {
     "data": {
      "text/plain": [
       "[45, 86, 800, 4, 35, 8635, 3535, 100, 305, 'sdfdsg']"
      ]
     },
     "execution_count": 97,
     "metadata": {},
     "output_type": "execute_result"
    }
   ],
   "source": [
    "py_list"
   ]
  },
  {
   "cell_type": "code",
   "execution_count": 98,
   "id": "6e2185fd",
   "metadata": {},
   "outputs": [
    {
     "data": {
      "text/plain": [
       "100"
      ]
     },
     "execution_count": 98,
     "metadata": {},
     "output_type": "execute_result"
    }
   ],
   "source": [
    "py_list.pop(7)"
   ]
  },
  {
   "cell_type": "code",
   "execution_count": 99,
   "id": "fb3c9912",
   "metadata": {},
   "outputs": [
    {
     "data": {
      "text/plain": [
       "[45, 86, 800, 4, 35, 8635, 3535, 305, 'sdfdsg']"
      ]
     },
     "execution_count": 99,
     "metadata": {},
     "output_type": "execute_result"
    }
   ],
   "source": [
    "py_list"
   ]
  },
  {
   "cell_type": "code",
   "execution_count": 108,
   "id": "89701c0c",
   "metadata": {},
   "outputs": [],
   "source": [
    "py = [45,23,7,34,86,34,90,23,143535,68,697454]"
   ]
  },
  {
   "cell_type": "code",
   "execution_count": 109,
   "id": "73026f13",
   "metadata": {},
   "outputs": [
    {
     "data": {
      "text/plain": [
       "[45, 23, 7, 34, 86, 34, 90, 23, 143535, 68, 697454]"
      ]
     },
     "execution_count": 109,
     "metadata": {},
     "output_type": "execute_result"
    }
   ],
   "source": [
    "py"
   ]
  },
  {
   "cell_type": "code",
   "execution_count": 106,
   "id": "4a703b1e",
   "metadata": {},
   "outputs": [],
   "source": [
    "py.sort(reverse=True)"
   ]
  },
  {
   "cell_type": "code",
   "execution_count": 107,
   "id": "92ef55ec",
   "metadata": {},
   "outputs": [
    {
     "data": {
      "text/plain": [
       "[697454, 143535, 90, 86, 68, 45, 34, 34, 23, 23, 7]"
      ]
     },
     "execution_count": 107,
     "metadata": {},
     "output_type": "execute_result"
    }
   ],
   "source": [
    "py"
   ]
  },
  {
   "cell_type": "code",
   "execution_count": 110,
   "id": "b8d52bd0",
   "metadata": {},
   "outputs": [
    {
     "data": {
      "text/plain": [
       "[45, 23, 7, 34, 86, 34, 90, 23, 143535, 68, 697454]"
      ]
     },
     "execution_count": 110,
     "metadata": {},
     "output_type": "execute_result"
    }
   ],
   "source": [
    "py"
   ]
  },
  {
   "cell_type": "code",
   "execution_count": 111,
   "id": "9c6125ef",
   "metadata": {},
   "outputs": [
    {
     "data": {
      "text/plain": [
       "4"
      ]
     },
     "execution_count": 111,
     "metadata": {},
     "output_type": "execute_result"
    }
   ],
   "source": [
    "py.index(86)"
   ]
  },
  {
   "cell_type": "code",
   "execution_count": 112,
   "id": "61872a30",
   "metadata": {},
   "outputs": [
    {
     "data": {
      "text/plain": [
       "2"
      ]
     },
     "execution_count": 112,
     "metadata": {},
     "output_type": "execute_result"
    }
   ],
   "source": [
    "py.count(23)"
   ]
  },
  {
   "cell_type": "code",
   "execution_count": 113,
   "id": "cb2981b8",
   "metadata": {},
   "outputs": [
    {
     "data": {
      "text/plain": [
       "1"
      ]
     },
     "execution_count": 113,
     "metadata": {},
     "output_type": "execute_result"
    }
   ],
   "source": [
    "py.count(90)"
   ]
  },
  {
   "cell_type": "code",
   "execution_count": 114,
   "id": "3d15488e",
   "metadata": {},
   "outputs": [],
   "source": [
    "py.clear()"
   ]
  },
  {
   "cell_type": "code",
   "execution_count": 115,
   "id": "f490b56c",
   "metadata": {},
   "outputs": [
    {
     "data": {
      "text/plain": [
       "[]"
      ]
     },
     "execution_count": 115,
     "metadata": {},
     "output_type": "execute_result"
    }
   ],
   "source": [
    "py"
   ]
  },
  {
   "cell_type": "code",
   "execution_count": 116,
   "id": "4fd078b3",
   "metadata": {},
   "outputs": [],
   "source": [
    "py = [45, 86, 800, 4, 97, 35, 8635, 3535, 100, 305, 'sdfdsg']"
   ]
  },
  {
   "cell_type": "code",
   "execution_count": 117,
   "id": "36eccaee",
   "metadata": {},
   "outputs": [],
   "source": [
    "py.reverse()"
   ]
  },
  {
   "cell_type": "code",
   "execution_count": 118,
   "id": "f7efe67f",
   "metadata": {},
   "outputs": [
    {
     "data": {
      "text/plain": [
       "['sdfdsg', 305, 100, 3535, 8635, 35, 97, 4, 800, 86, 45]"
      ]
     },
     "execution_count": 118,
     "metadata": {},
     "output_type": "execute_result"
    }
   ],
   "source": [
    "py"
   ]
  },
  {
   "cell_type": "code",
   "execution_count": 119,
   "id": "ca2820a3",
   "metadata": {},
   "outputs": [
    {
     "ename": "TypeError",
     "evalue": "'<' not supported between instances of 'int' and 'str'",
     "output_type": "error",
     "traceback": [
      "\u001b[1;31m---------------------------------------------------------------------------\u001b[0m",
      "\u001b[1;31mTypeError\u001b[0m                                 Traceback (most recent call last)",
      "Input \u001b[1;32mIn [119]\u001b[0m, in \u001b[0;36m<cell line: 1>\u001b[1;34m()\u001b[0m\n\u001b[1;32m----> 1\u001b[0m \u001b[43mpy\u001b[49m\u001b[38;5;241;43m.\u001b[39;49m\u001b[43msort\u001b[49m\u001b[43m(\u001b[49m\u001b[43m)\u001b[49m\n",
      "\u001b[1;31mTypeError\u001b[0m: '<' not supported between instances of 'int' and 'str'"
     ]
    }
   ],
   "source": [
    "py.sort()"
   ]
  },
  {
   "cell_type": "code",
   "execution_count": 126,
   "id": "2849d68f",
   "metadata": {},
   "outputs": [],
   "source": [
    "p =['dd','hgchg','aakbukbui','Aiohoiho']"
   ]
  },
  {
   "cell_type": "code",
   "execution_count": 127,
   "id": "898f4ae9",
   "metadata": {},
   "outputs": [],
   "source": [
    "p.sort()"
   ]
  },
  {
   "cell_type": "code",
   "execution_count": 128,
   "id": "e0829ebd",
   "metadata": {},
   "outputs": [
    {
     "data": {
      "text/plain": [
       "['Aiohoiho', 'aakbukbui', 'dd', 'hgchg']"
      ]
     },
     "execution_count": 128,
     "metadata": {},
     "output_type": "execute_result"
    }
   ],
   "source": [
    "p"
   ]
  },
  {
   "cell_type": "code",
   "execution_count": 130,
   "id": "4224e5c1",
   "metadata": {},
   "outputs": [
    {
     "data": {
      "text/plain": [
       "False"
      ]
     },
     "execution_count": 130,
     "metadata": {},
     "output_type": "execute_result"
    }
   ],
   "source": [
    "'a' > 'h'"
   ]
  },
  {
   "cell_type": "code",
   "execution_count": 131,
   "id": "9ccb0a34",
   "metadata": {},
   "outputs": [
    {
     "data": {
      "text/plain": [
       "97"
      ]
     },
     "execution_count": 131,
     "metadata": {},
     "output_type": "execute_result"
    }
   ],
   "source": [
    "ord('a')"
   ]
  },
  {
   "cell_type": "code",
   "execution_count": 132,
   "id": "70afc124",
   "metadata": {},
   "outputs": [
    {
     "data": {
      "text/plain": [
       "['Aiohoiho', 'aakbukbui', 'dd', 'hgchg']"
      ]
     },
     "execution_count": 132,
     "metadata": {},
     "output_type": "execute_result"
    }
   ],
   "source": [
    "p"
   ]
  },
  {
   "cell_type": "code",
   "execution_count": 133,
   "id": "086b3af0",
   "metadata": {},
   "outputs": [
    {
     "data": {
      "text/plain": [
       "['sdfdsg', 305, 100, 3535, 8635, 35, 97, 4, 800, 86, 45]"
      ]
     },
     "execution_count": 133,
     "metadata": {},
     "output_type": "execute_result"
    }
   ],
   "source": [
    "py"
   ]
  },
  {
   "cell_type": "code",
   "execution_count": 134,
   "id": "c4ff8c23",
   "metadata": {},
   "outputs": [],
   "source": [
    "p = [305, 100, 3535, 8635, 35, 97, 4, 800, 86, 45]"
   ]
  },
  {
   "cell_type": "code",
   "execution_count": 135,
   "id": "a6093b31",
   "metadata": {},
   "outputs": [
    {
     "data": {
      "text/plain": [
       "4"
      ]
     },
     "execution_count": 135,
     "metadata": {},
     "output_type": "execute_result"
    }
   ],
   "source": [
    "min(p)"
   ]
  },
  {
   "cell_type": "code",
   "execution_count": 136,
   "id": "a90dceed",
   "metadata": {},
   "outputs": [],
   "source": [
    "import math"
   ]
  },
  {
   "cell_type": "code",
   "execution_count": 139,
   "id": "831dcd0c",
   "metadata": {},
   "outputs": [
    {
     "data": {
      "text/plain": [
       "8635"
      ]
     },
     "execution_count": 139,
     "metadata": {},
     "output_type": "execute_result"
    }
   ],
   "source": [
    "max(p)"
   ]
  },
  {
   "cell_type": "code",
   "execution_count": 140,
   "id": "9493778f",
   "metadata": {},
   "outputs": [],
   "source": [
    "import pandas as pd"
   ]
  },
  {
   "cell_type": "code",
   "execution_count": 141,
   "id": "e2a74497",
   "metadata": {},
   "outputs": [],
   "source": [
    "\n",
    "df = pd.DataFrame({\n",
    "    'name':['a','b','c','d'],\n",
    "    'sal':[565,3434,867634,757],\n",
    "    'city':['sadf','asf','saf','saf']\n",
    "})"
   ]
  },
  {
   "cell_type": "code",
   "execution_count": 142,
   "id": "f6cc6d15",
   "metadata": {},
   "outputs": [
    {
     "data": {
      "text/html": [
       "<div>\n",
       "<style scoped>\n",
       "    .dataframe tbody tr th:only-of-type {\n",
       "        vertical-align: middle;\n",
       "    }\n",
       "\n",
       "    .dataframe tbody tr th {\n",
       "        vertical-align: top;\n",
       "    }\n",
       "\n",
       "    .dataframe thead th {\n",
       "        text-align: right;\n",
       "    }\n",
       "</style>\n",
       "<table border=\"1\" class=\"dataframe\">\n",
       "  <thead>\n",
       "    <tr style=\"text-align: right;\">\n",
       "      <th></th>\n",
       "      <th>name</th>\n",
       "      <th>sal</th>\n",
       "      <th>city</th>\n",
       "    </tr>\n",
       "  </thead>\n",
       "  <tbody>\n",
       "    <tr>\n",
       "      <th>0</th>\n",
       "      <td>a</td>\n",
       "      <td>565</td>\n",
       "      <td>sadf</td>\n",
       "    </tr>\n",
       "    <tr>\n",
       "      <th>1</th>\n",
       "      <td>b</td>\n",
       "      <td>3434</td>\n",
       "      <td>asf</td>\n",
       "    </tr>\n",
       "    <tr>\n",
       "      <th>2</th>\n",
       "      <td>c</td>\n",
       "      <td>867634</td>\n",
       "      <td>saf</td>\n",
       "    </tr>\n",
       "    <tr>\n",
       "      <th>3</th>\n",
       "      <td>d</td>\n",
       "      <td>757</td>\n",
       "      <td>saf</td>\n",
       "    </tr>\n",
       "  </tbody>\n",
       "</table>\n",
       "</div>"
      ],
      "text/plain": [
       "  name     sal  city\n",
       "0    a     565  sadf\n",
       "1    b    3434   asf\n",
       "2    c  867634   saf\n",
       "3    d     757   saf"
      ]
     },
     "execution_count": 142,
     "metadata": {},
     "output_type": "execute_result"
    }
   ],
   "source": [
    "df"
   ]
  },
  {
   "cell_type": "code",
   "execution_count": 147,
   "id": "bb855370",
   "metadata": {},
   "outputs": [
    {
     "data": {
      "text/plain": [
       "565"
      ]
     },
     "execution_count": 147,
     "metadata": {},
     "output_type": "execute_result"
    }
   ],
   "source": [
    "df['sal'].min()"
   ]
  },
  {
   "cell_type": "code",
   "execution_count": 149,
   "id": "792151a9",
   "metadata": {},
   "outputs": [],
   "source": [
    "p= [1,2,3,None,5,67]"
   ]
  },
  {
   "cell_type": "code",
   "execution_count": 150,
   "id": "15a622e2",
   "metadata": {},
   "outputs": [
    {
     "data": {
      "text/plain": [
       "[1, 2, 3, None, 5, 67]"
      ]
     },
     "execution_count": 150,
     "metadata": {},
     "output_type": "execute_result"
    }
   ],
   "source": [
    "p"
   ]
  },
  {
   "cell_type": "code",
   "execution_count": 152,
   "id": "d6fcd22c",
   "metadata": {},
   "outputs": [
    {
     "data": {
      "text/plain": [
       "0"
      ]
     },
     "execution_count": 152,
     "metadata": {},
     "output_type": "execute_result"
    }
   ],
   "source": [
    "p.index(1)"
   ]
  },
  {
   "cell_type": "code",
   "execution_count": 153,
   "id": "7035392e",
   "metadata": {},
   "outputs": [
    {
     "ename": "ValueError",
     "evalue": "100 is not in list",
     "output_type": "error",
     "traceback": [
      "\u001b[1;31m---------------------------------------------------------------------------\u001b[0m",
      "\u001b[1;31mValueError\u001b[0m                                Traceback (most recent call last)",
      "Input \u001b[1;32mIn [153]\u001b[0m, in \u001b[0;36m<cell line: 1>\u001b[1;34m()\u001b[0m\n\u001b[1;32m----> 1\u001b[0m \u001b[43mp\u001b[49m\u001b[38;5;241;43m.\u001b[39;49m\u001b[43mindex\u001b[49m\u001b[43m(\u001b[49m\u001b[38;5;241;43m100\u001b[39;49m\u001b[43m)\u001b[49m\n",
      "\u001b[1;31mValueError\u001b[0m: 100 is not in list"
     ]
    }
   ],
   "source": [
    "p.index(100)"
   ]
  },
  {
   "cell_type": "code",
   "execution_count": null,
   "id": "01dcec0b",
   "metadata": {},
   "outputs": [],
   "source": []
  }
 ],
 "metadata": {
  "kernelspec": {
   "display_name": "Python 3 (ipykernel)",
   "language": "python",
   "name": "python3"
  },
  "language_info": {
   "codemirror_mode": {
    "name": "ipython",
    "version": 3
   },
   "file_extension": ".py",
   "mimetype": "text/x-python",
   "name": "python",
   "nbconvert_exporter": "python",
   "pygments_lexer": "ipython3",
   "version": "3.9.12"
  }
 },
 "nbformat": 4,
 "nbformat_minor": 5
}
